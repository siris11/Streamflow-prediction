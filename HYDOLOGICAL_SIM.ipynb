{
 "cells": [
  {
   "cell_type": "code",
   "execution_count": 40,
   "metadata": {},
   "outputs": [
    {
     "name": "stdout",
     "output_type": "stream",
     "text": [
      "     gauge_id  gauge_lat  gauge_lon  elev_mean  slope_mean  area_gages2  \\\n",
      "0     1013500   47.23739  -68.58264     250.31    21.64152      2252.70   \n",
      "1     1022500   44.60797  -67.93524      92.68    17.79072       573.60   \n",
      "2     1030500   45.50097  -68.30596     143.80    12.79195      3676.17   \n",
      "3     1031500   45.17501  -69.31470     247.80    29.56035       769.05   \n",
      "4     1047000   44.86920  -69.95510     310.38    49.92122       909.10   \n",
      "..        ...        ...        ...        ...         ...          ...   \n",
      "666  14309500   42.80400 -123.61091     709.83   110.42527       224.92   \n",
      "667  14316700   43.34984 -122.72894     952.26   119.08920       587.90   \n",
      "668  14325000   42.89150 -124.07065     656.53   124.96889       443.07   \n",
      "669  14362250   42.15401 -123.07532     875.67   109.93127        41.42   \n",
      "670  14400000   42.12344 -124.18731     625.31    98.81802       702.63   \n",
      "\n",
      "     pet_mean  p_seasonality   aridity  soil_depth_pelletier  soil_porosity  \\\n",
      "0    1.971555       0.187940  0.630559              7.404762       0.461149   \n",
      "1    2.119256      -0.114530  0.587356             17.412808       0.415905   \n",
      "2    2.043594       0.047358  0.624111             19.011414       0.459091   \n",
      "3    2.071324       0.104091  0.587950              7.252557       0.450236   \n",
      "4    2.090024       0.147776  0.628929              5.359655       0.422749   \n",
      "..        ...            ...       ...                   ...            ...   \n",
      "666  3.122204      -0.995847  0.627228              0.894595       0.442804   \n",
      "667  2.277630      -0.821172  0.501305              0.879292       0.443107   \n",
      "668  2.434652      -0.952055  0.386610              0.990318       0.442249   \n",
      "669  3.325188      -0.985486  1.195390              0.625000       0.442872   \n",
      "670  2.279668      -1.015946  0.410302              0.929015       0.452074   \n",
      "\n",
      "     silt_frac  water_frac  frac_forest  lai_diff  gvf_diff  stream_elas  \\\n",
      "0    55.156940    5.376698       0.9063  3.340732  0.371648     1.845324   \n",
      "1    28.080937    1.226913       0.9232  3.746692  0.337712     1.702782   \n",
      "2    51.779182    1.634345       0.8782  3.665543  0.351393     1.377505   \n",
      "3    50.841232    0.674594       0.9548  3.990843  0.398619     1.648693   \n",
      "4    34.185443    0.000000       0.9906  4.300978  0.445473     1.510238   \n",
      "..         ...         ...          ...       ...       ...          ...   \n",
      "666  38.879406    0.000000       1.0000  1.986325  0.115741     1.220096   \n",
      "667  38.519396    0.000000       1.0000  2.828735  0.171176     1.552484   \n",
      "668  40.860260    0.000000       1.0000  1.867148  0.115977     1.127976   \n",
      "669  39.602460    0.000000       1.0000  2.451489  0.117102     2.694495   \n",
      "670  42.214515    0.000000       1.0000  1.430863  0.097405     1.386228   \n",
      "\n",
      "     geol_permeability                                               prcp  \n",
      "0             -14.7019  [0.0, 0.0, 0.0, 0.0, 0.0, 1.23, 3.07, 1.17, 0....  \n",
      "1             -14.2138  [0.0, 0.0, 0.0, 0.0, 0.0, 1.13, 0.74, 0.44, 0....  \n",
      "2             -14.4918  [0.0, 0.0, 0.0, 0.0, 0.0, 8.04, 1.32, 0.71, 0....  \n",
      "3             -14.8410  [0.0, 0.0, 0.0, 0.0, 0.0, 1.16, 1.42, 1.45, 0....  \n",
      "4             -14.4819  [0.0, 0.0, 0.0, 0.0, 0.0, 1.0, 1.24, 1.45, 0.0...  \n",
      "..                 ...                                                ...  \n",
      "666           -14.8976  [3.39, 0.75, 2.01, 0.87, 21.6, 0.3, 0.0, 4.03,...  \n",
      "667           -13.5958  [5.66, 1.27, 4.77, 2.04, 26.33, 0.1, 0.0, 9.83...  \n",
      "668           -15.1799  [5.55, 1.26, 3.43, 1.71, 32.54, 0.22, 0.0, 7.9...  \n",
      "669           -12.5264  [0.39, 0.0, 0.01, 0.08, 4.64, 0.01, 0.0, 0.95,...  \n",
      "670           -14.7163  [3.87, 0.02, 0.91, 2.02, 27.47, 0.03, 0.0, 5.7...  \n",
      "\n",
      "[671 rows x 19 columns]\n"
     ]
    }
   ],
   "source": [
    "import pandas as pd\n",
    "import os\n",
    "import numpy as np\n",
    "ind = 0\n",
    "basins = [] \n",
    "d = {}\n",
    "l = os.listdir('data')\n",
    "for i in l:\n",
    "    f = os.listdir('data/'+i)\n",
    "    for j in f:\n",
    "        j = int(j.split('_')[0])\n",
    "        d[j] = i\n",
    "        basins.append(j)\n",
    "basins = sorted(basins)\n",
    "pvals = [None]*671\n",
    "df = pd.read_csv('non_temporal.csv')\n",
    "df = df.drop('low_prec_timing',axis=1)\n",
    "p_val = list(df['gauge_id'])\n",
    "\n",
    "for i in basins:\n",
    "    try:\n",
    "        b = str(i)\n",
    "        if(len(b)==7):\n",
    "            b = '0'+b\n",
    "        data = pd.read_csv('data/'+d[i]+'/'+b+'_lump_nldas_forcing_leap.txt',sep=r'\\s+',skiprows=3)\n",
    "        data = data.drop('Year',axis=1)\n",
    "        data = data.drop('Mnth',axis=1)\n",
    "        data = data.drop('Day',axis=1)\n",
    "        data = data.drop('Hr',axis=1)\n",
    "        prcp = data['PRCP(mm/day)']\n",
    "        ind = p_val.index(i)\n",
    "        pvals[ind] = list(prcp)\n",
    "    except:\n",
    "        continue\n",
    "df['prcp'] = pvals\n",
    "\n",
    "print(df)\n"
   ]
  },
  {
   "cell_type": "code",
   "execution_count": 41,
   "metadata": {},
   "outputs": [],
   "source": [
    "df.to_csv('non_temp_prcp.csv',index=False)"
   ]
  },
  {
   "cell_type": "code",
   "execution_count": 53,
   "metadata": {},
   "outputs": [
    {
     "name": "stdout",
     "output_type": "stream",
     "text": [
      "[array([47.23739, -68.58264, 250.31, 21.64152, 2252.7, 1.97155451060917,\n",
      "       0.187940258706929, 0.63055865946247, 7.40476190476191,\n",
      "       0.461148751156712, 55.1569400320784, 5.37669779045723, 0.9063,\n",
      "       3.34073185949204, 0.37164816263051, 1.84532416164806, -14.7019],\n",
      "      dtype=object)]\n"
     ]
    }
   ],
   "source": [
    "vecs = df.values\n",
    "vec1 = [vecs[0][1:-1]]\n",
    "prcp1 = [list(vecs[0][-1])]\n",
    "print(vec1)"
   ]
  },
  {
   "cell_type": "code",
   "execution_count": 58,
   "metadata": {},
   "outputs": [],
   "source": [
    "from sklearn.metrics.pairwise import cosine_similarity\n",
    "\n",
    "sims = {}\n",
    "for i in vecs[1:]:\n",
    "    try:\n",
    "        vec_curr = [i[1:-1]]\n",
    "        _id = i[0]\n",
    "        prcp_curr = [list(i[-1])]\n",
    "        cos_sim1 = cosine_similarity(vec1,vec_curr)\n",
    "        cos_sim2 = cosine_similarity(prcp1,prcp_curr)\n",
    "        cos_sim = (cos_sim1[0][0]+cos_sim2[0][0])/2\n",
    "        if(float(cos_sim) in sims):\n",
    "            sims[float(cos_sim)].append(_id)\n",
    "        else:\n",
    "            sims[float(cos_sim)] = [_id]\n",
    "    except:\n",
    "        continue\n",
    "sim_scores = sorted(sims,reverse=True)[:10]\n",
    " "
   ]
  },
  {
   "cell_type": "code",
   "execution_count": 60,
   "metadata": {},
   "outputs": [
    {
     "name": "stdout",
     "output_type": "stream",
     "text": [
      "['01030500', '01031500', '01047000', '01022500', '01144000', '01057000', '04296000', '01052500', '01423000', '01548500']\n"
     ]
    }
   ],
   "source": [
    "basins_sim = []\n",
    "for i in sim_scores:\n",
    "    for j in sims[i]:\n",
    "        j = str(j)\n",
    "        if(len(j)==7):\n",
    "            j = '0'+j\n",
    "        basins_sim.append(j)\n",
    "print(basins_sim)"
   ]
  },
  {
   "cell_type": "code",
   "execution_count": 61,
   "metadata": {},
   "outputs": [
    {
     "data": {
      "text/plain": [
       "[0.9072953403076828,\n",
       " 0.86933246454252,\n",
       " 0.8475450023729176,\n",
       " 0.8431138486148112,\n",
       " 0.77563303116785,\n",
       " 0.6769450185183701,\n",
       " 0.657348146494506,\n",
       " 0.6564671365124594,\n",
       " 0.6493108242803526,\n",
       " 0.6431628837773671]"
      ]
     },
     "execution_count": 61,
     "metadata": {},
     "output_type": "execute_result"
    }
   ],
   "source": [
    "sim_scores"
   ]
  },
  {
   "cell_type": "code",
   "execution_count": null,
   "metadata": {},
   "outputs": [],
   "source": []
  }
 ],
 "metadata": {
  "kernelspec": {
   "display_name": "Python 3",
   "language": "python",
   "name": "python3"
  },
  "language_info": {
   "codemirror_mode": {
    "name": "ipython",
    "version": 3
   },
   "file_extension": ".py",
   "mimetype": "text/x-python",
   "name": "python",
   "nbconvert_exporter": "python",
   "pygments_lexer": "ipython3",
   "version": "3.11.9"
  }
 },
 "nbformat": 4,
 "nbformat_minor": 2
}
